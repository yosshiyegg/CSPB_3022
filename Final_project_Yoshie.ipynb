{
 "cells": [
  {
   "cell_type": "markdown",
   "metadata": {},
   "source": [
    "<figure>\n",
    "  <IMG SRC=\"https://www.colorado.edu/cs/profiles/express/themes/cuspirit/logo.png\" WIDTH=50 ALIGN=\"right\">\n",
    "</figure>\n",
    "\n",
    "*CSCI 3022 - Yoshie Bell-Souder*"
   ]
  },
  {
   "cell_type": "markdown",
   "metadata": {
    "slideshow": {
     "slide_type": "-"
    }
   },
   "source": [
    "   ## Did Covid-19 really affect world happiness?"
   ]
  },
  {
   "cell_type": "markdown",
   "metadata": {},
   "source": [
    "## Intoroduction"
   ]
  },
  {
   "cell_type": "markdown",
   "metadata": {
    "slideshow": {
     "slide_type": "-"
    }
   },
   "source": [
    "COVID-19 was an unexpected situation all over the world. Every day we had heard sad news about healkth problems and about people dying. In addition, we were afraid of the seemingly endless suffering.  The first peak of cases came down slowly, although we would like to try to be over the pandemic life. I am wondering about how people's happiness was changed before and after pandemic. Will it be the same as before overall, or did people's thoughts change and their happiness will be affected? Because of this, I decided that the theme of my project for this class would be world happiness and COVID-19.\n",
    "\n",
    "The World Happiness Report has been released by the United Nation Sustainable Development Solutions Network every year since 2012 (Helliwell et al, 2022). The UNSDSN calculated a happiness score for each country using survey data from around the world.  They also compare the hapiness score of many countries using lots of different data, such as GDP, income, healthy life expectancy and the opinions of residents and so on. Contries were ranked by the hapiness scores.  The survey also rated the following on a scale of 1-10, with 1 being the lowest and 10 being the highest: how people feel about freedom of choice in their country; how much social support they have; and how generous they are. In adition, I would like to use COVID-19 case numbers and deaths for each country to compare hapiness scores.\n",
    "\n",
    "This data has many variables, but I will first work on a linear regression model to model the change in world hapiness scores from 2019 to 2021 regressed on the COVID-19 data.  I will also attempt to use the other 2019 variables, such as GDP, to control for their effect.  My goal is to inform what is important for our happiness using the trend of happiness before and after the pandemic.\n",
    "\n",
    "In searching for this data online, there are so many world happiness comprison by year, disussions and analyses. The differnt part in my project is including the COVID-19 data.  I will focus specifically on data from 2019 and 2021 to compare people's situation in the world when people had similar sad situations and living remote lives."
   ]
  },
  {
   "cell_type": "markdown",
   "metadata": {},
   "source": [
    "## Data collection, processing and cleanup"
   ]
  },
  {
   "cell_type": "markdown",
   "metadata": {},
   "source": [
    "Steps:\n",
    "I examined a couple of different versions of the same year and I noticed the format of the data changes slightly every year. Therefore I cleaned up the data to focus on 8 different variables for each country from both years. These items are the happiness score, happiness ranking, GDP, social support, health and life expectancy, freedom of choice, generosity, and perceptions of corruption.  To enable comparisons by country, I cleaned up the data to only include countries that had data for both years.\n",
    "\n",
    "The data originally comes from: https://worldhappiness.report/\n",
    "\n",
    "However, I found it easier to work with the compiled data that was available via Kaggle:\n",
    "\n",
    "- 2019: https://www.kaggle.com/datasets/unsdsn/world-happiness?select=2019.csv\n",
    "- 2021: https://www.kaggle.com/datasets/ajaypalsinghlo/world-happiness-report-2021\n",
    "- Covid Dataset: \n",
    "https://www.kaggle.com/datasets/imdevskp/corona-virus-report?select=country_wise_latest.csv\n",
    "\n",
    "The second step is to match the header column names and the same ordering. We do need to be aware of null values, but these datasets did not have null data.  So we just match the data that is actually present, in order to do the comparison.  Then merge the COVID-19 data.\n",
    "\n",
    "The third step is how to measure/conclude the data. I will plan to use multiple-linear regression against the happiness score.<br>\n",
    "\n",
    "\n",
    "1. Change in Happiness score: The difference (subtract) between 2019 and 2021. For example, Happiness ranking #1 country was Finland. Their score was 7.769 in 2019, and 7.842 in 2021. I use those data as 0.073 (7.842 - 7.769).  According to the World happiness report website, 2019 scores came from the average from 2005 to 2018.  2021 scores came from the average from 2005 to 2020. \n",
    "<br> There are only 2 years of additional data so it may not be much dramatically different score. <br>It may be hard to lead the summary, because it may not be significant points or reason. However, I will try to conclude based on my collection of datasets.<br>\n",
    "\n",
    "2. Covid Case/death per capita: <br>\n",
    "This dataset is based on WHO, the world health organization.  The Weekly Epidemiological Update provides an overview of the global, regional, and country-level COVID-19 cases and deaths, and is put together in 2020 Jan 20.<br>\n",
    "\n",
    "3. Six features from <br>\n",
    "\n",
    "- Gross domestic product (GDP) per capita:  The measurement is by World Bank of the growth rate in GDP from previous year. (%)\n",
    "- Freedom to make life choices: Individuals can choose from more than two selections by themselves.  The data is from the world happiness report, and comes from questionnaires.\n",
    "- Social support:  Providing/supporting by phonological and productive others. The measurement by the world happiness report.\n",
    "- Healthy life expectancy: how long on average in the country do people live. The dataset is by the Ministry of Health Department(WHO).\n",
    "- generosity: the sacrifice of the giver, as a proportion of the financial resources of the person giving. The measurement by the world happiness report.\n",
    "- Perceptions of corruption: how corrupte are civil servants and politicians perceived to be. The dataset is by Transparency International.\n"
   ]
  },
  {
   "cell_type": "code",
   "execution_count": 1,
   "metadata": {},
   "outputs": [],
   "source": [
    "%matplotlib inline\n",
    "import pandas as pd\n",
    "import numpy as np\n",
    "import scipy as sp\n",
    "import scipy.stats as stats\n",
    "import pandas as pd\n",
    "import matplotlib.pyplot as plt\n",
    "import math\n",
    "whr19 = pd.read_csv('world-happiness-report-2019.csv')"
   ]
  },
  {
   "cell_type": "code",
   "execution_count": 2,
   "metadata": {},
   "outputs": [
    {
     "data": {
      "text/html": [
       "<div>\n",
       "<style scoped>\n",
       "    .dataframe tbody tr th:only-of-type {\n",
       "        vertical-align: middle;\n",
       "    }\n",
       "\n",
       "    .dataframe tbody tr th {\n",
       "        vertical-align: top;\n",
       "    }\n",
       "\n",
       "    .dataframe thead th {\n",
       "        text-align: right;\n",
       "    }\n",
       "</style>\n",
       "<table border=\"1\" class=\"dataframe\">\n",
       "  <thead>\n",
       "    <tr style=\"text-align: right;\">\n",
       "      <th></th>\n",
       "      <th>Country</th>\n",
       "      <th>Overall rank</th>\n",
       "      <th>Score</th>\n",
       "      <th>GDP per capita</th>\n",
       "      <th>Social support</th>\n",
       "      <th>Healthy life expectancy</th>\n",
       "      <th>Freedom to make life choices</th>\n",
       "      <th>Generosity</th>\n",
       "      <th>Perceptions of corruption</th>\n",
       "    </tr>\n",
       "  </thead>\n",
       "  <tbody>\n",
       "    <tr>\n",
       "      <th>0</th>\n",
       "      <td>Finland</td>\n",
       "      <td>1</td>\n",
       "      <td>7.769</td>\n",
       "      <td>1.340</td>\n",
       "      <td>1.587</td>\n",
       "      <td>0.986</td>\n",
       "      <td>0.596</td>\n",
       "      <td>0.153</td>\n",
       "      <td>0.393</td>\n",
       "    </tr>\n",
       "    <tr>\n",
       "      <th>1</th>\n",
       "      <td>Denmark</td>\n",
       "      <td>2</td>\n",
       "      <td>7.600</td>\n",
       "      <td>1.383</td>\n",
       "      <td>1.573</td>\n",
       "      <td>0.996</td>\n",
       "      <td>0.592</td>\n",
       "      <td>0.252</td>\n",
       "      <td>0.410</td>\n",
       "    </tr>\n",
       "    <tr>\n",
       "      <th>2</th>\n",
       "      <td>Norway</td>\n",
       "      <td>3</td>\n",
       "      <td>7.554</td>\n",
       "      <td>1.488</td>\n",
       "      <td>1.582</td>\n",
       "      <td>1.028</td>\n",
       "      <td>0.603</td>\n",
       "      <td>0.271</td>\n",
       "      <td>0.341</td>\n",
       "    </tr>\n",
       "    <tr>\n",
       "      <th>3</th>\n",
       "      <td>Iceland</td>\n",
       "      <td>4</td>\n",
       "      <td>7.494</td>\n",
       "      <td>1.380</td>\n",
       "      <td>1.624</td>\n",
       "      <td>1.026</td>\n",
       "      <td>0.591</td>\n",
       "      <td>0.354</td>\n",
       "      <td>0.118</td>\n",
       "    </tr>\n",
       "    <tr>\n",
       "      <th>4</th>\n",
       "      <td>Netherlands</td>\n",
       "      <td>5</td>\n",
       "      <td>7.488</td>\n",
       "      <td>1.396</td>\n",
       "      <td>1.522</td>\n",
       "      <td>0.999</td>\n",
       "      <td>0.557</td>\n",
       "      <td>0.322</td>\n",
       "      <td>0.298</td>\n",
       "    </tr>\n",
       "  </tbody>\n",
       "</table>\n",
       "</div>"
      ],
      "text/plain": [
       "       Country  Overall rank  Score  GDP per capita  Social support  \\\n",
       "0      Finland             1  7.769           1.340           1.587   \n",
       "1      Denmark             2  7.600           1.383           1.573   \n",
       "2       Norway             3  7.554           1.488           1.582   \n",
       "3      Iceland             4  7.494           1.380           1.624   \n",
       "4  Netherlands             5  7.488           1.396           1.522   \n",
       "\n",
       "   Healthy life expectancy  Freedom to make life choices  Generosity  \\\n",
       "0                    0.986                         0.596       0.153   \n",
       "1                    0.996                         0.592       0.252   \n",
       "2                    1.028                         0.603       0.271   \n",
       "3                    1.026                         0.591       0.354   \n",
       "4                    0.999                         0.557       0.322   \n",
       "\n",
       "   Perceptions of corruption  \n",
       "0                      0.393  \n",
       "1                      0.410  \n",
       "2                      0.341  \n",
       "3                      0.118  \n",
       "4                      0.298  "
      ]
     },
     "execution_count": 2,
     "metadata": {},
     "output_type": "execute_result"
    }
   ],
   "source": [
    "whr19 = whr19[['Country', 'Overall rank', 'Score', 'GDP per capita', 'Social support', 'Healthy life expectancy', \n",
    "               'Freedom to make life choices', 'Generosity', 'Perceptions of corruption']]\n",
    "whr19.head()"
   ]
  },
  {
   "cell_type": "markdown",
   "metadata": {},
   "source": [
    "To do the EDA, we will examine the distribution of relavent variables."
   ]
  },
  {
   "cell_type": "code",
   "execution_count": 3,
   "metadata": {},
   "outputs": [
    {
     "data": {
      "text/plain": [
       "Text(0.5, 0, 'Perceptions of corruption')"
      ]
     },
     "execution_count": 3,
     "metadata": {},
     "output_type": "execute_result"
    },
    {
     "data": {
      "image/png": "[encoded data removed]",
      "text/plain": [
       "<Figure size 864x864 with 9 Axes>"
      ]
     },
     "metadata": {
      "needs_background": "light"
     },
     "output_type": "display_data"
    }
   ],
   "source": [
    "fig, axes = plt.subplots(nrows=3, ncols=3, sharey=False, figsize=(12,12))\n",
    "\n",
    "# matplotlib histogram\n",
    "axes[0,0].hist(whr19['Score'], density=True, bins = 10)\n",
    "axes[0,1].hist(whr19['GDP per capita'], density=True, bins = 10)\n",
    "axes[0,2].hist(whr19['Social support'], density=True, bins = 10)\n",
    "axes[1,0].hist(whr19['Healthy life expectancy'], density=True, bins = 10)\n",
    "axes[1,1].hist(whr19['Freedom to make life choices'], density=True, bins = 10)\n",
    "axes[1,2].hist(whr19['Generosity'], density=True, bins = 10)\n",
    "axes[2,0].hist(whr19['Perceptions of corruption'], density=True, bins = 10)\n",
    "\n",
    "# Add labels\n",
    "axes[0,0].set_title('Histogram of Happiness Score')\n",
    "axes[0,0].set_xlabel('Score')\n",
    "axes[0,1].set_xlabel('GDP per capita')\n",
    "axes[0,2].set_xlabel('Social support')\n",
    "axes[1,0].set_xlabel('Healthy life expectancy')\n",
    "axes[1,1].set_xlabel('Freedom to make life choices')\n",
    "axes[1,2].set_xlabel('Generosity')\n",
    "axes[2,0].set_xlabel('Perceptions of corruption')"
   ]
  },
  {
   "cell_type": "markdown",
   "metadata": {},
   "source": [
    "The happiness score looks like it might be normally distributed. However, most of other variables are not normally distributed. GDP, for example, is positively skewed. To correct this, I would like to transform the data so that it is more normal. \n",
    "\n",
    "Here is an example of the COVID-19 data."
   ]
  },
  {
   "cell_type": "code",
   "execution_count": 4,
   "metadata": {},
   "outputs": [
    {
     "data": {
      "text/html": [
       "<div>\n",
       "<style scoped>\n",
       "    .dataframe tbody tr th:only-of-type {\n",
       "        vertical-align: middle;\n",
       "    }\n",
       "\n",
       "    .dataframe tbody tr th {\n",
       "        vertical-align: top;\n",
       "    }\n",
       "\n",
       "    .dataframe thead th {\n",
       "        text-align: right;\n",
       "    }\n",
       "</style>\n",
       "<table border=\"1\" class=\"dataframe\">\n",
       "  <thead>\n",
       "    <tr style=\"text-align: right;\">\n",
       "      <th></th>\n",
       "      <th>Country/Region</th>\n",
       "      <th>Confirmed per capita</th>\n",
       "      <th>Deaths per capita</th>\n",
       "    </tr>\n",
       "  </thead>\n",
       "  <tbody>\n",
       "    <tr>\n",
       "      <th>0</th>\n",
       "      <td>Afghanistan</td>\n",
       "      <td>0.000898</td>\n",
       "      <td>0.000031</td>\n",
       "    </tr>\n",
       "    <tr>\n",
       "      <th>1</th>\n",
       "      <td>Albania</td>\n",
       "      <td>0.001701</td>\n",
       "      <td>0.000050</td>\n",
       "    </tr>\n",
       "    <tr>\n",
       "      <th>2</th>\n",
       "      <td>Algeria</td>\n",
       "      <td>0.000621</td>\n",
       "      <td>0.000026</td>\n",
       "    </tr>\n",
       "    <tr>\n",
       "      <th>3</th>\n",
       "      <td>Andorra</td>\n",
       "      <td>0.011725</td>\n",
       "      <td>0.000672</td>\n",
       "    </tr>\n",
       "    <tr>\n",
       "      <th>4</th>\n",
       "      <td>Angola</td>\n",
       "      <td>0.000027</td>\n",
       "      <td>0.000001</td>\n",
       "    </tr>\n",
       "  </tbody>\n",
       "</table>\n",
       "</div>"
      ],
      "text/plain": [
       "  Country/Region  Confirmed per capita  Deaths per capita\n",
       "0    Afghanistan              0.000898           0.000031\n",
       "1        Albania              0.001701           0.000050\n",
       "2        Algeria              0.000621           0.000026\n",
       "3        Andorra              0.011725           0.000672\n",
       "4         Angola              0.000027           0.000001"
      ]
     },
     "execution_count": 4,
     "metadata": {},
     "output_type": "execute_result"
    }
   ],
   "source": [
    "covid19 = pd.read_csv('covid_19_clean_complete.csv')\n",
    "covid19 = covid19[['Country/Region', 'Confirmed per capita', 'Deaths per capita', ]]\n",
    "covid19.head()"
   ]
  },
  {
   "cell_type": "code",
   "execution_count": 5,
   "metadata": {},
   "outputs": [
    {
     "data": {
      "text/plain": [
       "Text(0.5, 0, 'Deaths')"
      ]
     },
     "execution_count": 5,
     "metadata": {},
     "output_type": "execute_result"
    },
    {
     "data": {
      "image/png": "[encoded data removed]",
      "text/plain": [
       "<Figure size 576x288 with 2 Axes>"
      ]
     },
     "metadata": {
      "needs_background": "light"
     },
     "output_type": "display_data"
    }
   ],
   "source": [
    "fig, axes = plt.subplots(nrows=1, ncols=2, sharey=False, figsize=(8,4))\n",
    "\n",
    "# matplotlib histogram\n",
    "axes[0].hist(covid19['Confirmed per capita'], density=True, bins = 10)\n",
    "axes[1].hist(covid19['Deaths per capita'], density=True, bins = 10)\n",
    "\n",
    "\n",
    "# Add labels\n",
    "axes[0].set_title('COVID-19')\n",
    "axes[0].set_xlabel('Case')\n",
    "axes[1].set_xlabel('Deaths')\n"
   ]
  },
  {
   "cell_type": "markdown",
   "metadata": {},
   "source": [
    "## Planned Models \n",
    "\n",
    "My hypothesis is that Covid-19 affected happiness scores. \n",
    "\n",
    "(formula='Happiness score ~ Covid-19 case')  <be>\n",
    "    \n",
    "$\\beta_1 =$ coefficient for Covid-19 cases\n",
    "\n",
    "H0: $\\beta_1=0$\n",
    "    \n",
    "H1: $\\beta_1\\ne0$\n",
    "    \n",
    "I will run the following modeling tests. (Full F-test)\n",
    "    \n",
    "(formula='Happines score ~ Covid case)  <br>\n",
    "(formula='Happines score ~ Covid death) <br>\n",
    "(formula='Happines score ~ Covid case + Covid death) <br>(t-test)\n",
    "    \n",
    "\n",
    "In addition, I will test if Covic-19 cases had an effect on happiness scores when controling for effects of other variables that have previously shown to have an effect on happiness scores. (Partial F-test)\n",
    "    \n",
    "(formula='Happines score ~ Covid case + Covid death')<br>\n",
    "(formula='Happines score ~ Covid case + Covid death + GDP + Freedom ... + perceptions of curruption')\n",
    "(formula='Happines score ~ GDP + Freedom ... + perceptions of curruption')\n",
    "\n",
    "If Covid-19 cases and Covid-19 deaths are collinear, which is likely, I will remove Covid-19 deaths from the model to meet the assumption of independence of predictors. (t-test)  The reason to remove the Covid-19 deaths instead of the cases would be because deaths may be impacted more complicated factors, such as age or prior health, but cases affect happiness directly for more people.  \n",
    "    \n",
    "(formula='Happines score ~ Covid case')<br>\n",
    "(formula='Happines score ~ Covid case + GDP + Freedom ... + perceptions of curruption')\n",
    "\n",
    "There are many interesting questions beyond this, but I would like to focus on the questions above in this class project. \n",
    "    \n",
    "## Summary\n",
    "\n",
    "I will check the collinearly each of variable against each other. <br>\n",
    "For example, Covid case and death may be corelated each other.  GDP and freedom, and Covid case may be corelated using multiple colliniarity.  For predictors of regression model that are colliniar, I will remove them from the regression model, then explain the principal reasons.  \n",
    "\n",
    "I will compare the change between 2021 and 2019 data from the World Hapiness Report and test if COVID-19 is correlated to this change.  I will do this with a hypothosis test using linear regression.  My null hypothosis that there is no effect of COVID-19 on changes in Happiness Scores.  My alternative hypothosis is that there was some effect of COVID-19 on changes in Happiness scores.  I will also try to control for effects of other variables such as GDP.\n",
    "\n",
    "## Reference\n",
    "\n",
    "Helliwell, J. F., Layard, R., Sachs, J. D., De Neve, J.-E., Aknin, L. B., & Wang, S. (Eds.). (2022). World Happiness Report 2022. New York: Sustainable Development Solutions Network."
   ]
  },
  {
   "cell_type": "code",
   "execution_count": null,
   "metadata": {},
   "outputs": [],
   "source": []
  }
 ],
 "metadata": {
  "celltoolbar": "Slideshow",
  "kernelspec": {
   "display_name": "Python 3",
   "language": "python",
   "name": "python3"
  },
  "language_info": {
   "codemirror_mode": {
    "name": "ipython",
    "version": 3
   },
   "file_extension": ".py",
   "mimetype": "text/x-python",
   "name": "python",
   "nbconvert_exporter": "python",
   "pygments_lexer": "ipython3",
   "version": "3.8.8"
  }
 },
 "nbformat": 4,
 "nbformat_minor": 2
}
